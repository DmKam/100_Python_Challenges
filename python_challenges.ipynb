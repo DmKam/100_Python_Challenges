{
 "cells": [
  {
   "cell_type": "markdown",
   "metadata": {},
   "source": [
    "### Basic coding exercises"
   ]
  },
  {
   "cell_type": "code",
   "execution_count": 1,
   "metadata": {},
   "outputs": [
    {
     "data": {
      "text/plain": [
       "12"
      ]
     },
     "execution_count": 1,
     "metadata": {},
     "output_type": "execute_result"
    }
   ],
   "source": [
    "#1 Calculate the sum of three given numbers\n",
    "def sum_num(a, b, c):\n",
    "    if a==b==c:\n",
    "        return 2*(a + b + c)\n",
    "    else:\n",
    "        return (a + b + c)\n",
    "    \n",
    "sum_num(3, 4, 6)\n",
    "sum_num(2, 2, 2)"
   ]
  },
  {
   "cell_type": "code",
   "execution_count": 2,
   "metadata": {},
   "outputs": [
    {
     "data": {
      "text/plain": [
       "3.0"
      ]
     },
     "execution_count": 2,
     "metadata": {},
     "output_type": "execute_result"
    }
   ],
   "source": [
    "#2 Calculate the square root of a number\n",
    "import math\n",
    "\n",
    "def sqrt1(num):\n",
    "    return round(math.sqrt(num), 3)\n",
    "\n",
    "sqrt1(9)"
   ]
  },
  {
   "cell_type": "code",
   "execution_count": 3,
   "metadata": {},
   "outputs": [
    {
     "data": {
      "text/plain": [
       "(1.02, 3)"
      ]
     },
     "execution_count": 3,
     "metadata": {},
     "output_type": "execute_result"
    }
   ],
   "source": [
    "#3 Return the quotient and remainder\n",
    "def quot_rem(num1, num2):\n",
    "    return round(num1 / num2, 2), num1 % num2\n",
    "\n",
    "quot_rem(179, 176)"
   ]
  },
  {
   "cell_type": "code",
   "execution_count": 4,
   "metadata": {},
   "outputs": [
    {
     "data": {
      "text/plain": [
       "'Odd'"
      ]
     },
     "execution_count": 4,
     "metadata": {},
     "output_type": "execute_result"
    }
   ],
   "source": [
    "#4 Check whether a number is even or odd\n",
    "def even_odd(num):\n",
    "    if num % 2 == 0:\n",
    "        return('Even')\n",
    "    else:\n",
    "        return('Odd')\n",
    "    \n",
    "even_odd(1)"
   ]
  },
  {
   "cell_type": "code",
   "execution_count": 5,
   "metadata": {},
   "outputs": [
    {
     "data": {
      "text/plain": [
       "[1, 2, 4, 7, 14, 28]"
      ]
     },
     "execution_count": 5,
     "metadata": {},
     "output_type": "execute_result"
    }
   ],
   "source": [
    "#5 Determine the factors of a number\n",
    "def factors(num):\n",
    "    factors = []\n",
    "    for i in range(num + 1):\n",
    "        if i != 0 and num % i == 0:\n",
    "            factors.append(i)\n",
    "    return factors\n",
    "\n",
    "factors(28)"
   ]
  },
  {
   "cell_type": "code",
   "execution_count": 6,
   "metadata": {},
   "outputs": [
    {
     "data": {
      "text/plain": [
       "549755813888"
      ]
     },
     "execution_count": 6,
     "metadata": {},
     "output_type": "execute_result"
    }
   ],
   "source": [
    "#6 Find the power of any number x^y\n",
    "def power(x, y):\n",
    "    return x ** y\n",
    "\n",
    "power(2, 39)"
   ]
  },
  {
   "cell_type": "code",
   "execution_count": 7,
   "metadata": {},
   "outputs": [
    {
     "data": {
      "text/plain": [
       "'INTEGER'"
      ]
     },
     "execution_count": 7,
     "metadata": {},
     "output_type": "execute_result"
    }
   ],
   "source": [
    "#7 Return the decimal part of a number\n",
    "def decimal_part(num):\n",
    "    if type(num) == float:\n",
    "        return(round(num % 1, 2))\n",
    "    else:\n",
    "        return 'INTEGER'\n",
    "        \n",
    "decimal_part(2)"
   ]
  },
  {
   "cell_type": "code",
   "execution_count": 8,
   "metadata": {},
   "outputs": [
    {
     "data": {
      "text/plain": [
       "22"
      ]
     },
     "execution_count": 8,
     "metadata": {},
     "output_type": "execute_result"
    }
   ],
   "source": [
    "#8 FizzBuzz Program\n",
    "def fizzbuzz(num):\n",
    "    if num % 3 == 0 and num % 5 == 0:\n",
    "        return('FizzBuzz')\n",
    "    elif num % 3 == 0:\n",
    "        return('Fizz')\n",
    "    elif num % 5 == 0:\n",
    "        return('Buzz')\n",
    "    else:\n",
    "        return num\n",
    "        \n",
    "fizzbuzz(22)"
   ]
  },
  {
   "cell_type": "code",
   "execution_count": 9,
   "metadata": {},
   "outputs": [
    {
     "data": {
      "text/plain": [
       "5"
      ]
     },
     "execution_count": 9,
     "metadata": {},
     "output_type": "execute_result"
    }
   ],
   "source": [
    "#9 Calculate the number of numerical digitsnin a string\n",
    "def count_num_digits(st):\n",
    "    count = 0\n",
    "    for i in st:\n",
    "        if '0' <= i <= '9':\n",
    "            count += 1\n",
    "    return count\n",
    "\n",
    "count_num_digits('dg15638')"
   ]
  },
  {
   "cell_type": "code",
   "execution_count": 10,
   "metadata": {},
   "outputs": [
    {
     "data": {
      "text/plain": [
       "False"
      ]
     },
     "execution_count": 10,
     "metadata": {},
     "output_type": "execute_result"
    }
   ],
   "source": [
    "#10 Check if a number is equal to the sum of its positive divisors, except itself\n",
    "def sum_pos_divisor(num):\n",
    "    factors = []\n",
    "    for i in range(num + 1):\n",
    "        if i != 0 and num % i == 0:\n",
    "            factors.append(i)\n",
    "    if sum(factors[:-1]) == num:\n",
    "        return True\n",
    "    else:\n",
    "        return False\n",
    "\n",
    "sum_pos_divisor(29)"
   ]
  },
  {
   "cell_type": "code",
   "execution_count": 11,
   "metadata": {},
   "outputs": [
    {
     "data": {
      "text/plain": [
       "(datetime.datetime(2020, 3, 13, 0, 0), True)"
      ]
     },
     "execution_count": 11,
     "metadata": {},
     "output_type": "execute_result"
    }
   ],
   "source": [
    "#11 Chech if the given year, month has the Friday 13th\n",
    "import datetime\n",
    "\n",
    "def check_friday_13(yr, mon):\n",
    "    dt = datetime.datetime(yr, mon, 13)\n",
    "    if dt.strftime('%A') == 'Friday':\n",
    "        return dt, True\n",
    "    else:\n",
    "        return dt, False\n",
    "    \n",
    "check_friday_13(2020, 3)"
   ]
  },
  {
   "cell_type": "code",
   "execution_count": 12,
   "metadata": {},
   "outputs": [
    {
     "data": {
      "text/plain": [
       "36"
      ]
     },
     "execution_count": 12,
     "metadata": {},
     "output_type": "execute_result"
    }
   ],
   "source": [
    "#12 Return the next number greater than two numbers a and b\n",
    "def check_division(a, b):\n",
    "    summ = (a + b)\n",
    "    while summ % b != 0:\n",
    "        summ += 1\n",
    "    else:\n",
    "        return summ\n",
    "    \n",
    "check_division(25, 6)"
   ]
  },
  {
   "cell_type": "code",
   "execution_count": 13,
   "metadata": {},
   "outputs": [
    {
     "data": {
      "text/plain": [
       "(4532, 4)"
      ]
     },
     "execution_count": 13,
     "metadata": {},
     "output_type": "execute_result"
    }
   ],
   "source": [
    "#13 length of a number without len()\n",
    "import random\n",
    "\n",
    "def calculate_length():\n",
    "    randnum = random.randrange(5001)\n",
    "    count = 0\n",
    "    for i in str(randnum):\n",
    "        count += 1\n",
    "    return randnum, count\n",
    "    \n",
    "calculate_length()    "
   ]
  },
  {
   "cell_type": "code",
   "execution_count": 14,
   "metadata": {},
   "outputs": [
    {
     "data": {
      "text/plain": [
       "(False, False, False, False)"
      ]
     },
     "execution_count": 14,
     "metadata": {},
     "output_type": "execute_result"
    }
   ],
   "source": [
    "#14 Boolean values\n",
    "def booleans(x, y, z):\n",
    "    if x + y + z >= 2:\n",
    "        return x, y, z, True\n",
    "    else:\n",
    "        return x, y, z, False\n",
    "\n",
    "booleans(False, False, False)"
   ]
  },
  {
   "cell_type": "code",
   "execution_count": 15,
   "metadata": {},
   "outputs": [
    {
     "data": {
      "text/plain": [
       "(3, 6)"
      ]
     },
     "execution_count": 15,
     "metadata": {},
     "output_type": "execute_result"
    }
   ],
   "source": [
    "#15 Factorial of a number\n",
    "import random\n",
    "import math\n",
    "\n",
    "def factorial():\n",
    "    randnum = random.randrange(11)\n",
    "    return randnum, math.factorial(randnum)\n",
    "\n",
    "factorial()"
   ]
  },
  {
   "cell_type": "code",
   "execution_count": 16,
   "metadata": {},
   "outputs": [
    {
     "data": {
      "text/plain": [
       "(5.0, True)"
      ]
     },
     "execution_count": 16,
     "metadata": {},
     "output_type": "execute_result"
    }
   ],
   "source": [
    "#16 Check if a function returns a whole number without decimals after dividing\n",
    "def check_division(num):\n",
    "    numb = str(num).split('.')\n",
    "    x, y = numb\n",
    "    if int(y) == 0:\n",
    "        return num, True\n",
    "    else:\n",
    "        return num, False\n",
    "\n",
    "check_division(5.0)"
   ]
  },
  {
   "cell_type": "code",
   "execution_count": 17,
   "metadata": {},
   "outputs": [
    {
     "data": {
      "text/plain": [
       "False"
      ]
     },
     "execution_count": 17,
     "metadata": {},
     "output_type": "execute_result"
    }
   ],
   "source": [
    "#17 Prime number\n",
    "def prime_num(num):\n",
    "    if num != 2 and num != 3:\n",
    "        if num % 2 != 0 and num % 3 != 0:\n",
    "            return True\n",
    "        else:\n",
    "            return False\n",
    "    else:\n",
    "        return True\n",
    "    \n",
    "prime_num(6)"
   ]
  },
  {
   "cell_type": "code",
   "execution_count": 18,
   "metadata": {},
   "outputs": [
    {
     "data": {
      "text/plain": [
       "(276, 15)"
      ]
     },
     "execution_count": 18,
     "metadata": {},
     "output_type": "execute_result"
    }
   ],
   "source": [
    "#18 Sum of digits in an integer\n",
    "import random\n",
    "\n",
    "def sum_digits():\n",
    "    randnum = str(random.randrange(100, 301))\n",
    "    rnlist = [i for i in randnum]\n",
    "    total = 0\n",
    "    for i in rnlist:\n",
    "        total += int(i)\n",
    "    return int(randnum), total\n",
    "    \n",
    "sum_digits()"
   ]
  },
  {
   "cell_type": "code",
   "execution_count": 19,
   "metadata": {},
   "outputs": [
    {
     "data": {
      "text/plain": [
       "([91, 31, 97, 73, 55, 7, 45, 86, 35, 19], [45])"
      ]
     },
     "execution_count": 19,
     "metadata": {},
     "output_type": "execute_result"
    }
   ],
   "source": [
    "#19 Return the number divisible by 15 in a list\n",
    "import random\n",
    "\n",
    "def divide_by_15():\n",
    "    input_list = [random.randrange(101) for i in range(10)]\n",
    "    output_list = [i for i in input_list if i % 15 == 0]\n",
    "    return input_list, output_list\n",
    "\n",
    "divide_by_15()"
   ]
  },
  {
   "cell_type": "code",
   "execution_count": 20,
   "metadata": {},
   "outputs": [
    {
     "data": {
      "text/plain": [
       "10"
      ]
     },
     "execution_count": 20,
     "metadata": {},
     "output_type": "execute_result"
    }
   ],
   "source": [
    "#20 Swap bits in an integer\n",
    "def swap_bits(num):\n",
    "    num = f'{num:08b}'\n",
    "    num_out = ''\n",
    "    numlist = [i for i in str(num)]\n",
    "    numlist[2], numlist[6] = numlist[6], numlist[2]\n",
    "    for i in numlist:\n",
    "        num_out += i\n",
    "    return int(num_out, 2)\n",
    "    \n",
    "swap_bits(40)"
   ]
  },
  {
   "cell_type": "code",
   "execution_count": 21,
   "metadata": {},
   "outputs": [
    {
     "data": {
      "text/plain": [
       "(7, [0, 1, 1, 2, 3, 5, 8])"
      ]
     },
     "execution_count": 21,
     "metadata": {},
     "output_type": "execute_result"
    }
   ],
   "source": [
    "#21 Fibonacci series\n",
    "import random\n",
    "\n",
    "def Fibonacci():\n",
    "    ran = random.randrange(5, 11)\n",
    "    fibo_sec = [0, 1]\n",
    "    n = 1\n",
    "    curr = int(fibo_sec[n]) + int(fibo_sec[n - 1])\n",
    "    while ran != len(fibo_sec):\n",
    "        fibo_sec.append(curr)\n",
    "        n += 1\n",
    "        curr = int(fibo_sec[n]) + int(fibo_sec[n - 1])\n",
    "    else:\n",
    "        return ran, fibo_sec\n",
    "    \n",
    "Fibonacci()"
   ]
  },
  {
   "cell_type": "markdown",
   "metadata": {},
   "source": [
    "### String"
   ]
  },
  {
   "cell_type": "code",
   "execution_count": 22,
   "metadata": {},
   "outputs": [
    {
     "data": {
      "text/plain": [
       "'nworB nelA'"
      ]
     },
     "execution_count": 22,
     "metadata": {},
     "output_type": "execute_result"
    }
   ],
   "source": [
    "#22 Reverse a string\n",
    "def string_reverse(first, second):\n",
    "    temp = first + ' ' + second\n",
    "    temp = list(temp)[::-1]\n",
    "    new_string = ''\n",
    "    return new_string.join(temp)\n",
    "\n",
    "string_reverse('Alen', 'Brown')"
   ]
  },
  {
   "cell_type": "code",
   "execution_count": 23,
   "metadata": {},
   "outputs": [
    {
     "data": {
      "text/plain": [
       "('1234', 'qwer')"
      ]
     },
     "execution_count": 23,
     "metadata": {},
     "output_type": "execute_result"
    }
   ],
   "source": [
    "#23 Swap two strings without using a third variable\n",
    "def swap_strings(s1, s2):\n",
    "    s1, s2 = s2, s1\n",
    "    return s1, s2\n",
    "\n",
    "swap_strings('qwer', '1234')"
   ]
  },
  {
   "cell_type": "code",
   "execution_count": 24,
   "metadata": {},
   "outputs": [
    {
     "data": {
      "text/plain": [
       "2"
      ]
     },
     "execution_count": 24,
     "metadata": {},
     "output_type": "execute_result"
    }
   ],
   "source": [
    "#24 Count the number of vowels in a given string\n",
    "def count_vowels(string):\n",
    "    vowels = ['e', 'y', 'u', 'i', 'o', 'a']\n",
    "    count = 0\n",
    "    for i in string:\n",
    "        if i in vowels:\n",
    "            count += 1\n",
    "    return count\n",
    "\n",
    "count_vowels('dolphin')"
   ]
  },
  {
   "cell_type": "code",
   "execution_count": 25,
   "metadata": {},
   "outputs": [
    {
     "data": {
      "text/plain": [
       "'string 3d'"
      ]
     },
     "execution_count": 25,
     "metadata": {},
     "output_type": "execute_result"
    }
   ],
   "source": [
    "#25 Remove duplicate elements from a string\n",
    "def remove_duplicates(string):\n",
    "    uniq = set()\n",
    "    str2 = ''\n",
    "    for i in list(string):\n",
    "        if i not in uniq:\n",
    "            str2 += i\n",
    "            uniq.add(i)\n",
    "    return str2\n",
    "\n",
    "remove_duplicates('string in3 d')"
   ]
  },
  {
   "cell_type": "code",
   "execution_count": 26,
   "metadata": {},
   "outputs": [
    {
     "data": {
      "text/plain": [
       "'misisauga'"
      ]
     },
     "execution_count": 26,
     "metadata": {},
     "output_type": "execute_result"
    }
   ],
   "source": [
    "#26 Remove consecutive duplicate characters in a string\n",
    "def remove_duplicates(string):\n",
    "    new, count = '', 0\n",
    "    string = list(string)\n",
    "    for i in string:\n",
    "        if count != 0:\n",
    "            if i == string[count - 1]:\n",
    "                del string[count - 1]\n",
    "        count += 1\n",
    "    return new.join(string)\n",
    "    \n",
    "remove_duplicates('mississauga')"
   ]
  },
  {
   "cell_type": "code",
   "execution_count": 27,
   "metadata": {},
   "outputs": [
    {
     "data": {
      "text/plain": [
       "'correct am i'"
      ]
     },
     "execution_count": 27,
     "metadata": {},
     "output_type": "execute_result"
    }
   ],
   "source": [
    "#27 Reverse words in a string\n",
    "def reverse_string(string):\n",
    "    strlist, new, count = string.split(' '), '', 0\n",
    "    for i in range(len(strlist)):\n",
    "        if strlist[count] == '':\n",
    "            del strlist[count]\n",
    "        else:\n",
    "            count +=1\n",
    "    for i in strlist[::-1]:\n",
    "        new += i\n",
    "        if i != strlist[0]:\n",
    "            new += ' '\n",
    "    return new\n",
    "    \n",
    "reverse_string('i am      correct   ')"
   ]
  },
  {
   "cell_type": "code",
   "execution_count": 28,
   "metadata": {},
   "outputs": [
    {
     "data": {
      "text/plain": [
       "'abc'"
      ]
     },
     "execution_count": 28,
     "metadata": {},
     "output_type": "execute_result"
    }
   ],
   "source": [
    "#28 Longest common prefix\n",
    "def longest_prefix(*s1):\n",
    "    alist, llist, pref, count, rounds = [], [], '', 0, 0\n",
    "    alist += s1\n",
    "    llist = [list(i) for i in alist]\n",
    "    for i in range(len(min(llist))):\n",
    "        while count + 1 < len(alist):\n",
    "            if llist[0][rounds] == llist[count][rounds]:\n",
    "                count += 1\n",
    "            else:\n",
    "                break\n",
    "        else:\n",
    "            pref += llist[0][rounds]\n",
    "            count = 0\n",
    "        rounds += 1    \n",
    "    return pref\n",
    "\n",
    "longest_prefix('abcdr123', 'abc2434', 'abc345', 'abc')"
   ]
  },
  {
   "cell_type": "code",
   "execution_count": 29,
   "metadata": {},
   "outputs": [
    {
     "data": {
      "text/plain": [
       "'b'"
      ]
     },
     "execution_count": 29,
     "metadata": {},
     "output_type": "execute_result"
    }
   ],
   "source": [
    "#29 Return the letter added to a string\n",
    "def new_letter(s, t):\n",
    "    slist, tlist = set(s), set(t)\n",
    "    tlist.difference_update(slist)\n",
    "    for i in tlist:\n",
    "        return i\n",
    "    \n",
    "new_letter('python', 'pythonb')"
   ]
  },
  {
   "cell_type": "code",
   "execution_count": 30,
   "metadata": {},
   "outputs": [
    {
     "data": {
      "text/plain": [
       "False"
      ]
     },
     "execution_count": 30,
     "metadata": {},
     "output_type": "execute_result"
    }
   ],
   "source": [
    "#30 String to Boolean conversion\n",
    "def string_to_bool(s1):\n",
    "    if s1.lower() == 'true':\n",
    "        return True\n",
    "    elif s1.lower() == 'false':\n",
    "        return False\n",
    "    else:\n",
    "        return 'Invalid input'\n",
    "    \n",
    "string_to_bool('FALSE')"
   ]
  },
  {
   "cell_type": "code",
   "execution_count": 31,
   "metadata": {},
   "outputs": [
    {
     "data": {
      "text/plain": [
       "'s1df'"
      ]
     },
     "execution_count": 31,
     "metadata": {},
     "output_type": "execute_result"
    }
   ],
   "source": [
    "#31 Remove white spaces from a string\n",
    "def remove_spaces(s1):\n",
    "    return ''.join(s1.split(' '))\n",
    "\n",
    "remove_spaces('s 1 d f')"
   ]
  },
  {
   "cell_type": "code",
   "execution_count": 32,
   "metadata": {},
   "outputs": [
    {
     "data": {
      "text/plain": [
       "12"
      ]
     },
     "execution_count": 32,
     "metadata": {},
     "output_type": "execute_result"
    }
   ],
   "source": [
    "#32 Convert a string with decimals to an integer\n",
    "def str_to_int(s1):\n",
    "    return int(float(s1))\n",
    "\n",
    "str_to_int('12.34')"
   ]
  },
  {
   "cell_type": "code",
   "execution_count": 33,
   "metadata": {},
   "outputs": [
    {
     "data": {
      "text/plain": [
       "'noicenoicenoicenoicenoicenoicenoicenoicenoicenoicenoicenoicenoicenoicenoicenoicenoicenoicenoicenoicenoicenoicenoicenoicenoicenoicenoicenoicenoicenoicenoicenoicenoicenoicenoicenoicenoicenoicenoicenoicenoicenoicenoicenoicenoicenoicenoicenoicenoicenoicenoicenoicenoicenoicenoicenoicenoicenoicenoicenoicenoicenoicenoicenoicenoicenoicenoicenoicenoice'"
      ]
     },
     "execution_count": 33,
     "metadata": {},
     "output_type": "execute_result"
    }
   ],
   "source": [
    "#33 Return n copies of a given string\n",
    "def copies_of_string(s1, num):\n",
    "    return s1 * num\n",
    "\n",
    "copies_of_string('noice', 69)"
   ]
  },
  {
   "cell_type": "code",
   "execution_count": 34,
   "metadata": {},
   "outputs": [
    {
     "data": {
      "text/plain": [
       "3"
      ]
     },
     "execution_count": 34,
     "metadata": {},
     "output_type": "execute_result"
    }
   ],
   "source": [
    "#34 Calculate the number of upper case letters in a string\n",
    "def count_case(inpstr):\n",
    "    count = 0\n",
    "    for i in list(inpstr):\n",
    "        if 'A' <= i <= 'Z':\n",
    "            count += 1\n",
    "    return count\n",
    "\n",
    "count_case('iiyY 23g T iTg')"
   ]
  },
  {
   "cell_type": "code",
   "execution_count": 35,
   "metadata": {},
   "outputs": [
    {
     "data": {
      "text/plain": [
       "'50 79 74 68 6f 6e'"
      ]
     },
     "execution_count": 35,
     "metadata": {},
     "output_type": "execute_result"
    }
   ],
   "source": [
    "#35 Convert string to hexadecimal numbers\n",
    "def convert_to_hex(s1):\n",
    "    new, out = [], ''\n",
    "    for i in list(s1):\n",
    "        new.append(hex(ord(i)).split('0x'))\n",
    "    for i in new:\n",
    "        if i != '':\n",
    "            out += i[1]\n",
    "        if i != new[-1]:\n",
    "            out += ' '\n",
    "    return out\n",
    "    \n",
    "convert_to_hex('Python')"
   ]
  },
  {
   "cell_type": "code",
   "execution_count": 36,
   "metadata": {},
   "outputs": [
    {
     "data": {
      "text/plain": [
       "[1, 4, 7, 5]"
      ]
     },
     "execution_count": 36,
     "metadata": {},
     "output_type": "execute_result"
    }
   ],
   "source": [
    "#36 Separate the digits of an integer\n",
    "def separate_digits(num):\n",
    "    lnum = []\n",
    "    for i in list(str(num)):\n",
    "        lnum.append(int(i))\n",
    "    return lnum\n",
    "\n",
    "separate_digits(1475)"
   ]
  },
  {
   "cell_type": "code",
   "execution_count": 37,
   "metadata": {},
   "outputs": [
    {
     "data": {
      "text/plain": [
       "True"
      ]
     },
     "execution_count": 37,
     "metadata": {},
     "output_type": "execute_result"
    }
   ],
   "source": [
    "#37 Check whether a string is a pangram or not\n",
    "import string\n",
    "\n",
    "def pangram(inpstr):\n",
    "    count = 0\n",
    "    for i in string.ascii_lowercase:\n",
    "        if i in inpstr.lower():\n",
    "            count += 1\n",
    "    if count == 26:\n",
    "        return True\n",
    "    else:\n",
    "        return False\n",
    "        \n",
    "pangram('The quick brown fox jumps over the lazy dog') "
   ]
  },
  {
   "cell_type": "code",
   "execution_count": 38,
   "metadata": {},
   "outputs": [
    {
     "data": {
      "text/plain": [
       "'qwrtyk'"
      ]
     },
     "execution_count": 38,
     "metadata": {},
     "output_type": "execute_result"
    }
   ],
   "source": [
    "#38 Remove all occurrences of a given character from an input string\n",
    "def remove_char(inpstr, charr):\n",
    "    slist = list(inpstr)\n",
    "    for i in slist:\n",
    "        if i == charr:\n",
    "            slist.remove(i)\n",
    "    return ''.join(slist)\n",
    "\n",
    "remove_char('qwertyeke', 'e')"
   ]
  },
  {
   "cell_type": "code",
   "execution_count": 39,
   "metadata": {},
   "outputs": [
    {
     "data": {
      "text/plain": [
       "True"
      ]
     },
     "execution_count": 39,
     "metadata": {},
     "output_type": "execute_result"
    }
   ],
   "source": [
    "#39 Check if the given string is a valid pin or not\n",
    "'''A valid pin has: exactly 5 characters, only numerical characters,\n",
    "   no whitespaces.'''\n",
    "def valid_pin(inpstr):\n",
    "    slist = list(inpstr)\n",
    "    if len(inpstr) == 5:\n",
    "        for i in slist:\n",
    "            if '0' <= i <= '9':\n",
    "                continue\n",
    "            else:\n",
    "                return False\n",
    "        if ' ' in slist:\n",
    "            return False\n",
    "    else:\n",
    "        return False\n",
    "    return True\n",
    "\n",
    "valid_pin('02463')"
   ]
  },
  {
   "cell_type": "code",
   "execution_count": 40,
   "metadata": {},
   "outputs": [
    {
     "data": {
      "text/plain": [
       "(2, [3, 6])"
      ]
     },
     "execution_count": 40,
     "metadata": {},
     "output_type": "execute_result"
    }
   ],
   "source": [
    "#40 Number of occurrences of a sub-string in a given string\n",
    "import re\n",
    "\n",
    "def find_substring(inpstr, sub):\n",
    "    count = inpstr.count(sub)\n",
    "    poslist = [poslist.start() for poslist in re.finditer(sub, inpstr)]\n",
    "    return count, poslist\n",
    "\n",
    "find_substring('qwertyrt', 'rt')"
   ]
  },
  {
   "cell_type": "code",
   "execution_count": 41,
   "metadata": {},
   "outputs": [
    {
     "data": {
      "text/plain": [
       "'inpstrscray'"
      ]
     },
     "execution_count": 41,
     "metadata": {},
     "output_type": "execute_result"
    }
   ],
   "source": [
    "#41 Convert the given string into Pig Latin\n",
    "def pig_latin(inpstr):\n",
    "    slist = list(inpstr)\n",
    "    vowels = ['a', 'e', 'i', 'o', 'u','y']\n",
    "    cons, count = '', 0\n",
    "    if slist[0] in vowels:\n",
    "        return inpstr + 'yay'\n",
    "    for i in range(len(slist)):\n",
    "        if slist[i].lower() not in vowels and slist[i + 1].lower() not in vowels:\n",
    "            cons += slist[i]\n",
    "            count += 1\n",
    "        elif slist[i].lower() not in vowels and slist[i + 1].lower() in vowels:\n",
    "            cons += slist[i]\n",
    "            count += 1\n",
    "            break\n",
    "    return inpstr[count:] + cons + 'ay'\n",
    "            \n",
    "pig_latin('scrinpstr')"
   ]
  },
  {
   "cell_type": "code",
   "execution_count": 42,
   "metadata": {},
   "outputs": [
    {
     "data": {
      "text/plain": [
       "'inpstrinpstrinpstrinpstrinpstrinpstr'"
      ]
     },
     "execution_count": 42,
     "metadata": {},
     "output_type": "execute_result"
    }
   ],
   "source": [
    "#42 Return a string that consists of 'n' copies of the input string\n",
    "def string_copies(inpstr):\n",
    "    return inpstr * len(inpstr)\n",
    "\n",
    "string_copies('inpstr')"
   ]
  },
  {
   "cell_type": "code",
   "execution_count": 43,
   "metadata": {},
   "outputs": [
    {
     "data": {
      "text/plain": [
       "'1000'"
      ]
     },
     "execution_count": 43,
     "metadata": {},
     "output_type": "execute_result"
    }
   ],
   "source": [
    "#43 Write a program to get a str made of the first 2 and the last 2 chars from a given string\n",
    "def str_first2_last2_char(inpstr):\n",
    "    if len(inpstr) <= 2:\n",
    "        return ''\n",
    "    return inpstr[0:2] + inpstr[-2:]\n",
    "\n",
    "str_first2_last2_char('100')"
   ]
  },
  {
   "cell_type": "markdown",
   "metadata": {},
   "source": [
    "### List"
   ]
  },
  {
   "cell_type": "code",
   "execution_count": 44,
   "metadata": {},
   "outputs": [
    {
     "data": {
      "text/plain": [
       "['a', 'b', 'c', 'c', 'e', 'c', 'g']"
      ]
     },
     "execution_count": 44,
     "metadata": {},
     "output_type": "execute_result"
    }
   ],
   "source": [
    "#44 Replace elements in a list\n",
    "def replace_value(input_list):\n",
    "    modified_input_list = []\n",
    "    for i in input_list:\n",
    "        if i == 'd':\n",
    "            modified_input_list += 'c'\n",
    "        else:\n",
    "            modified_input_list += i\n",
    "    return (modified_input_list)\n",
    "\n",
    "ex = ['a', 'b', 'd', 'd', 'e', 'd', 'g']\n",
    "replace_value(ex)"
   ]
  },
  {
   "cell_type": "code",
   "execution_count": 45,
   "metadata": {},
   "outputs": [
    {
     "data": {
      "text/plain": [
       "[1, 2, 9, 7, 2, 6]"
      ]
     },
     "execution_count": 45,
     "metadata": {},
     "output_type": "execute_result"
    }
   ],
   "source": [
    "#45 Remove zeroes from a list\n",
    "def remove_zero(input_list):\n",
    "    modified_input_list = []\n",
    "    for i in input_list:\n",
    "        if i == 0:\n",
    "            continue\n",
    "        else:\n",
    "            modified_input_list.append(i)\n",
    "    return (modified_input_list)\n",
    "\n",
    "ex = [1,2,0,9,7,0,2,6,0]\n",
    "remove_zero(ex)"
   ]
  },
  {
   "cell_type": "code",
   "execution_count": 46,
   "metadata": {},
   "outputs": [
    {
     "data": {
      "text/plain": [
       "882"
      ]
     },
     "execution_count": 46,
     "metadata": {},
     "output_type": "execute_result"
    }
   ],
   "source": [
    "#46 Return the kth largest element in a list\n",
    "def kth_largest_element(input_list, k):\n",
    "    input_list.sort()\n",
    "    input_list.reverse()\n",
    "    return input_list[k - 1]\n",
    "\n",
    "ex = [971, 72, 3, 148, 882, 90, 45, -1.888]\n",
    "k = 2\n",
    "kth_largest_element(ex, k)"
   ]
  },
  {
   "cell_type": "code",
   "execution_count": 47,
   "metadata": {},
   "outputs": [
    {
     "data": {
      "text/plain": [
       "[0, 3, 7]"
      ]
     },
     "execution_count": 47,
     "metadata": {},
     "output_type": "execute_result"
    }
   ],
   "source": [
    "#47 Return the indices of all occurrences of an element in a list\n",
    "def indices(input_list, element):\n",
    "    output_list, c = [], 0\n",
    "    for i in input_list:\n",
    "        if i == element:\n",
    "            output_list.append(c)\n",
    "        c += 1\n",
    "    return output_list\n",
    "\n",
    "ex = [10, 6, 7, 10, 9, 1, -1, 10]\n",
    "e = 10\n",
    "indices(ex, e)"
   ]
  },
  {
   "cell_type": "code",
   "execution_count": 48,
   "metadata": {},
   "outputs": [
    {
     "data": {
      "text/plain": [
       "[5, 15, 25, 50]"
      ]
     },
     "execution_count": 48,
     "metadata": {},
     "output_type": "execute_result"
    }
   ],
   "source": [
    "#48 Remove all occurrences of an element from a list\n",
    "def remove_20(input_list):\n",
    "    for i in input_list:\n",
    "        if 20 in input_list:\n",
    "            input_list.remove(20)\n",
    "    return input_list\n",
    "\n",
    "ex = [5, 20, 15, 20, 25, 50, 20]\n",
    "remove_20(ex)"
   ]
  },
  {
   "cell_type": "code",
   "execution_count": 49,
   "metadata": {},
   "outputs": [
    {
     "data": {
      "text/plain": [
       "[1, 2, 3, 4, 5, 6, 7, 8, 9]"
      ]
     },
     "execution_count": 49,
     "metadata": {},
     "output_type": "execute_result"
    }
   ],
   "source": [
    "#49 Concatenate n input lists\n",
    "def concat(*n):\n",
    "    output_list, li = [], []\n",
    "    for i in range(len(n)): \n",
    "        li.extend(n[i])\n",
    "    c = 0\n",
    "    while c < len(li):\n",
    "        if c < len(li) and type(li[c]) == int:\n",
    "            output_list.append(li[c])\n",
    "            c += 1\n",
    "        elif c < len(li):\n",
    "            output_list.extend(li[c])\n",
    "            c += 1\n",
    "    return output_list\n",
    "\n",
    "ex = [1, 2, 3,], [4, 5, 6], [7, 8], 9\n",
    "concat(ex)"
   ]
  },
  {
   "cell_type": "code",
   "execution_count": 50,
   "id": "wrapped-gibraltar",
   "metadata": {},
   "outputs": [
    {
     "data": {
      "text/plain": [
       "(2, [[1], [1, 1]])"
      ]
     },
     "execution_count": 50,
     "metadata": {},
     "output_type": "execute_result"
    }
   ],
   "source": [
    "#50 Pascal's triangle\n",
    "import random\n",
    "def pascal_triangle():\n",
    "    n = random.randrange(2, 9)\n",
    "    output_list = []\n",
    "    for i in range(n):\n",
    "        output_list.append([])\n",
    "        output_list[i].append(1)\n",
    "        for j in range(1, i):\n",
    "            output_list[i].append(output_list[i - 1][j - 1] + output_list[i - 1][j])\n",
    "        if n != 0 and i != 0:\n",
    "            output_list[i].append(1)\n",
    "    return n, output_list\n",
    "\n",
    "pascal_triangle()"
   ]
  },
  {
   "cell_type": "code",
   "execution_count": 51,
   "id": "standing-intro",
   "metadata": {},
   "outputs": [
    {
     "data": {
      "text/plain": [
       "1260"
      ]
     },
     "execution_count": 51,
     "metadata": {},
     "output_type": "execute_result"
    }
   ],
   "source": [
    "#51 Highest possible product\n",
    "input_list = [20, 7, 3, 6, -1, 0, 9]\n",
    "def highest_prod(in_list):\n",
    "    in_list.sort()\n",
    "    prod = in_list[-1] * in_list[-2] * in_list[-3]\n",
    "    return prod\n",
    "    \n",
    "highest_prod(input_list)"
   ]
  },
  {
   "cell_type": "code",
   "execution_count": 52,
   "id": "official-offering",
   "metadata": {},
   "outputs": [
    {
     "data": {
      "text/plain": [
       "['desk', 'chairs']"
      ]
     },
     "execution_count": 52,
     "metadata": {},
     "output_type": "execute_result"
    }
   ],
   "source": [
    "#52 Given a list of words in the singular form, return a set of those words in a plural form\n",
    "input_list = ['chair', 'chair', 'desk']\n",
    "def pluralize(input_list):\n",
    "    output_set = set(input_list)\n",
    "    output_list = []\n",
    "    for i in output_set:\n",
    "        input_list.remove(i)\n",
    "        if i in input_list:\n",
    "            output_list.append(i + 's')\n",
    "        else:\n",
    "            output_list.append(i)\n",
    "    return output_list\n",
    "\n",
    "pluralize(input_list)"
   ]
  },
  {
   "cell_type": "code",
   "execution_count": 53,
   "id": "single-lightning",
   "metadata": {},
   "outputs": [
    {
     "data": {
      "text/plain": [
       "['maroon',\n",
       " 'navy',\n",
       " 'teal',\n",
       " 'white',\n",
       " 'lime',\n",
       " 'blue violet',\n",
       " 'indigo',\n",
       " 'coral',\n",
       " 'mustard']"
      ]
     },
     "execution_count": 53,
     "metadata": {},
     "output_type": "execute_result"
    }
   ],
   "source": [
    "#53 Sort the words in the list based on their second letter from a to z\n",
    "input_list =  ['coral', 'teal', 'mustard', 'blue violet', 'maroon', 'indigo', 'white', 'lime', 'navy']\n",
    "def word_sort(input_list):\n",
    "    sorted_list = sorted(input_list, key=lambda i: i[1:])\n",
    "    return sorted_list\n",
    "\n",
    "word_sort(input_list)"
   ]
  },
  {
   "cell_type": "code",
   "execution_count": 54,
   "id": "failing-textbook",
   "metadata": {},
   "outputs": [
    {
     "data": {
      "text/plain": [
       "3"
      ]
     },
     "execution_count": 54,
     "metadata": {},
     "output_type": "execute_result"
    }
   ],
   "source": [
    "#54 Return the index of a target value in a list\n",
    "input_list = [0,1,5,7,8]\n",
    "target = 6\n",
    "def return_index(input_list, target):\n",
    "    if target in input_list:\n",
    "        return input_list.index(target)\n",
    "    else:\n",
    "        temp = None\n",
    "        for i in input_list:\n",
    "            if temp == None:\n",
    "                temp = i\n",
    "            else:\n",
    "                if temp < target and target < i:\n",
    "                    return input_list.index(i)\n",
    "                else:\n",
    "                    temp = i\n",
    "\n",
    "return_index(input_list, target)"
   ]
  },
  {
   "cell_type": "code",
   "execution_count": 55,
   "id": "sufficient-mitchell",
   "metadata": {},
   "outputs": [
    {
     "data": {
      "text/plain": [
       "67"
      ]
     },
     "execution_count": 55,
     "metadata": {},
     "output_type": "execute_result"
    }
   ],
   "source": [
    "#55 Highest number in a list\n",
    "input_list = [9, 6, 45, 67, 12]\n",
    "def high_num(input_list):\n",
    "    return sorted(input_list)[-1]\n",
    "\n",
    "high_num(input_list)"
   ]
  },
  {
   "cell_type": "code",
   "execution_count": 56,
   "id": "congressional-cartridge",
   "metadata": {},
   "outputs": [
    {
     "data": {
      "text/plain": [
       "21600"
      ]
     },
     "execution_count": 56,
     "metadata": {},
     "output_type": "execute_result"
    }
   ],
   "source": [
    "#56 Multiply all elements in a list\n",
    "import math\n",
    "input_list = [1,2,3,4,5,6,6,5]\n",
    "def multiple_elements(input_list):\n",
    "    return math.prod(input_list)\n",
    "\n",
    "multiple_elements(input_list)"
   ]
  },
  {
   "cell_type": "code",
   "execution_count": 57,
   "id": "czech-acquisition",
   "metadata": {},
   "outputs": [
    {
     "data": {
      "text/plain": [
       "[{'P': 80}, {'y': 121}, {'t': 116}, {'h': 104}, {'o': 111}, {'n': 110}]"
      ]
     },
     "execution_count": 57,
     "metadata": {},
     "output_type": "execute_result"
    }
   ],
   "source": [
    "#57 Tramsform a list of characters into a list of dictionaries\n",
    "input_list = ['P', 'y', 't', 'h', 'o', 'n']\n",
    "def to_dict(input_list):\n",
    "    out_list = []\n",
    "    for i in input_list:\n",
    "        temp = {}\n",
    "        temp[i] = ord(i)\n",
    "        out_list.append(temp)\n",
    "    return out_list\n",
    "\n",
    "to_dict(input_list)"
   ]
  },
  {
   "cell_type": "code",
   "execution_count": 58,
   "id": "productive-details",
   "metadata": {},
   "outputs": [
    {
     "data": {
      "text/plain": [
       "[7, 6, 5, 2, 1, 0]"
      ]
     },
     "execution_count": 58,
     "metadata": {},
     "output_type": "execute_result"
    }
   ],
   "source": [
    "#58 Sort the list in a descending order\n",
    "input_list = [5, 7, 2, 0, 6, 1]\n",
    "def sort_dec(input_list):\n",
    "    input_list.sort(reverse=True)\n",
    "    return input_list\n",
    "\n",
    "sort_dec(input_list)"
   ]
  },
  {
   "cell_type": "code",
   "execution_count": 59,
   "id": "contrary-programming",
   "metadata": {},
   "outputs": [
    {
     "data": {
      "text/plain": [
       "4"
      ]
     },
     "execution_count": 59,
     "metadata": {},
     "output_type": "execute_result"
    }
   ],
   "source": [
    "#59 Return the missing number from a sequence of unique integers \n",
    "def missing_number(input_list):\n",
    "    input_list.sort(reverse=True)\n",
    "    miss = None\n",
    "    for i in range(len(input_list) - 1):\n",
    "        if input_list[i] - input_list[i + 1] != 1:\n",
    "            return input_list[i] - 1\n",
    "        \n",
    "missing_number(input_list)"
   ]
  },
  {
   "cell_type": "code",
   "execution_count": 60,
   "id": "governmental-mixture",
   "metadata": {},
   "outputs": [
    {
     "data": {
      "text/plain": [
       "[1, 2, 3, 4, 5]"
      ]
     },
     "execution_count": 60,
     "metadata": {},
     "output_type": "execute_result"
    }
   ],
   "source": [
    "#60 Return the digits in a numberin the form of a list\n",
    "num = 12345\n",
    "def num_to_list(num):\n",
    "    out = []\n",
    "    for i in str(num):\n",
    "        out.append(int(i))\n",
    "    return out\n",
    "\n",
    "num_to_list(num)"
   ]
  },
  {
   "cell_type": "code",
   "execution_count": 61,
   "id": "cleared-brass",
   "metadata": {},
   "outputs": [
    {
     "data": {
      "text/plain": [
       "[10, 9, 8, 7, 6]"
      ]
     },
     "execution_count": 61,
     "metadata": {},
     "output_type": "execute_result"
    }
   ],
   "source": [
    "#61 Return a list containing all the numbers within the start and end ranges\n",
    "s, e = 10, 6\n",
    "def inclusive_list(start, end):\n",
    "    out = []\n",
    "    if start < end:\n",
    "        for i in range(start, end + 1):\n",
    "            out.append(i)\n",
    "    elif start > end:\n",
    "        for ind, i in enumerate(range(start - end + 1)):\n",
    "            out.append(start - ind)\n",
    "    return out\n",
    "\n",
    "inclusive_list(s, e)"
   ]
  },
  {
   "cell_type": "code",
   "execution_count": 62,
   "id": "behind-compilation",
   "metadata": {},
   "outputs": [
    {
     "data": {
      "text/plain": [
       "(6, 7, 4)"
      ]
     },
     "execution_count": 62,
     "metadata": {},
     "output_type": "execute_result"
    }
   ],
   "source": [
    "#62 Return the element that has the max number of consecutive occurrences in a list\n",
    "input_list = [1,13,3,3,3,4,5,6,6,6,6]\n",
    "\n",
    "def counter(max_occur_elem, init_pos, count, temp_count, input_list, inx):\n",
    "    if temp_count > count:\n",
    "        count = temp_count\n",
    "        temp_count = 1\n",
    "        init_pos = inx + 1 - count\n",
    "        max_occur_elem = input_list[init_pos]\n",
    "    else:\n",
    "        temp_count = 1\n",
    "    return max_occur_elem, init_pos, count, temp_count\n",
    "\n",
    "def max_occur_element(input_list):\n",
    "    max_occur_elem, init_pos, count, temp_count = input_list[0], 0, 1, 1\n",
    "    for inx, i in enumerate(input_list):\n",
    "        if inx < len(input_list) - 1:\n",
    "            if i == input_list[inx + 1]:\n",
    "                temp_count += 1\n",
    "            else:\n",
    "                max_occur_elem, init_pos, count, temp_count = \\\n",
    "                counter(max_occur_elem, init_pos, count, temp_count,input_list, inx)\n",
    "        else:\n",
    "            max_occur_elem, init_pos, count, temp_count = \\\n",
    "            counter(max_occur_elem, init_pos, count, temp_count, input_list, inx)\n",
    "    return max_occur_elem, init_pos, count\n",
    "max_occur_element(input_list)"
   ]
  },
  {
   "cell_type": "code",
   "execution_count": 63,
   "id": "forty-comfort",
   "metadata": {},
   "outputs": [],
   "source": [
    "#63 Return the missing number in a list containing elems from 1 to 100\n",
    "#63 == #59"
   ]
  },
  {
   "cell_type": "code",
   "execution_count": 64,
   "id": "meaningful-large",
   "metadata": {},
   "outputs": [
    {
     "data": {
      "text/plain": [
       "[1, 2, 3, 4, 5, 6]"
      ]
     },
     "execution_count": 64,
     "metadata": {},
     "output_type": "execute_result"
    }
   ],
   "source": [
    "#64 Remove duplicate elements from a list\n",
    "input_list = [1, 2, 3, 4, 5, 6, 6, 5]\n",
    "def remove_duplicates(input_list):\n",
    "    return list(set(input_list))\n",
    "\n",
    "remove_duplicates(input_list)"
   ]
  },
  {
   "cell_type": "code",
   "execution_count": 65,
   "id": "driven-convergence",
   "metadata": {},
   "outputs": [
    {
     "data": {
      "text/plain": [
       "['a', 'x', 'b', 'y', 'c', 'z']"
      ]
     },
     "execution_count": 65,
     "metadata": {},
     "output_type": "execute_result"
    }
   ],
   "source": [
    "#65 Combine elements from 2 lists in gived order\n",
    "input_list1 = ['a', 'b', 'c']\n",
    "input_list2 = ['x', 'y', 'z']\n",
    "\n",
    "def concat_list(input_list1, input_list2):\n",
    "    output_list = []\n",
    "    for inx, i in enumerate(input_list1):\n",
    "        output_list.append(input_list1[inx])\n",
    "        output_list.append(input_list2[inx])\n",
    "    return output_list\n",
    "\n",
    "concat_list(input_list1, input_list2)"
   ]
  },
  {
   "cell_type": "code",
   "execution_count": 66,
   "id": "traditional-thermal",
   "metadata": {},
   "outputs": [
    {
     "data": {
      "text/plain": [
       "[[7, 3], [2, 8], [4, 6]]"
      ]
     },
     "execution_count": 66,
     "metadata": {},
     "output_type": "execute_result"
    }
   ],
   "source": [
    "#66 Find the elements in a list whose sum is equal to a given value\n",
    "input_list = [5, 7, 1, 2, 8, 4, 3, 6]\n",
    "def sum_of_elements(input_list):\n",
    "    output_list = []\n",
    "    for inx, i in enumerate(input_list):\n",
    "        for j in input_list:\n",
    "            if input_list.index(i) != input_list.index(j):\n",
    "                if i + j == 10:\n",
    "                    output_list.append([i, j])\n",
    "        input_list[inx] = 0\n",
    "    return output_list\n",
    "\n",
    "sum_of_elements(input_list)"
   ]
  },
  {
   "cell_type": "markdown",
   "id": "involved-residence",
   "metadata": {},
   "source": [
    "### Dictionary"
   ]
  },
  {
   "cell_type": "code",
   "execution_count": 67,
   "id": "thermal-inventory",
   "metadata": {},
   "outputs": [
    {
     "data": {
      "text/plain": [
       "25"
      ]
     },
     "execution_count": 67,
     "metadata": {},
     "output_type": "execute_result"
    }
   ],
   "source": [
    "#67 Maximum value in a dictionary\n",
    "input_dict = {1:1, 2:4, 3:9, 4:16, 5:25}\n",
    "def max_value(input_dict):\n",
    "    highest = 0\n",
    "    for i in input_dict.values():\n",
    "        if i > highest:\n",
    "            highest = i\n",
    "    return highest\n",
    "\n",
    "max_value(input_dict)"
   ]
  },
  {
   "cell_type": "code",
   "execution_count": 68,
   "id": "republican-second",
   "metadata": {},
   "outputs": [
    {
     "data": {
      "text/plain": [
       "293"
      ]
     },
     "execution_count": 68,
     "metadata": {},
     "output_type": "execute_result"
    }
   ],
   "source": [
    "#68 Sum all the values in a dictionary\n",
    "input_dict = {'a':100, 'b':-54, 'c':247}\n",
    "def sum_values(input_dict):\n",
    "    sum_v = 0\n",
    "    for i in input_dict.values():\n",
    "        sum_v += i\n",
    "    return sum_v\n",
    "\n",
    "sum_values(input_dict)"
   ]
  },
  {
   "cell_type": "code",
   "execution_count": 69,
   "id": "serious-evans",
   "metadata": {},
   "outputs": [
    {
     "data": {
      "text/plain": [
       "14400"
      ]
     },
     "execution_count": 69,
     "metadata": {},
     "output_type": "execute_result"
    }
   ],
   "source": [
    "#69 Multiply all the values in a dictionary\n",
    "input_dict = {1:1, 2:4, 3:9, 4:16, 5:25}\n",
    "def multiply_values(input_dict):\n",
    "    prod = 1\n",
    "    for i in input_dict.values():\n",
    "        prod *= i\n",
    "    return prod\n",
    "\n",
    "multiply_values(input_dict)"
   ]
  },
  {
   "cell_type": "code",
   "execution_count": 70,
   "id": "mobile-instrument",
   "metadata": {},
   "outputs": [
    {
     "data": {
      "text/plain": [
       "['Orange', 'Apple', 'Strawberry', 'Mango']"
      ]
     },
     "execution_count": 70,
     "metadata": {},
     "output_type": "execute_result"
    }
   ],
   "source": [
    "#70 Return all unique values in a dictionary\n",
    "input_dict = {'box1':'Apple', 'box2':'Mango', 'box3':'Orange', 'box4':'Apple', 'box5':'Orange', 'box6':'Orange', 'box7':'Strawberry', 'box8':'Apple'}\n",
    "def remove_duplicates(input_dict):\n",
    "    uniques = set(input_dict.values())\n",
    "    return list(uniques)\n",
    "\n",
    "remove_duplicates(input_dict)"
   ]
  },
  {
   "cell_type": "code",
   "execution_count": 71,
   "id": "serial-berlin",
   "metadata": {},
   "outputs": [
    {
     "data": {
      "text/plain": [
       "{'Apple': 'box1', 'Orange': 'box2'}"
      ]
     },
     "execution_count": 71,
     "metadata": {},
     "output_type": "execute_result"
    }
   ],
   "source": [
    "#71 Invert the keys and values of a dictionary\n",
    "input_dict = {'box1':'Apple', 'box2':'Orange'}\n",
    "def invert_dict(input_dict):\n",
    "    reversed_d = {}\n",
    "    for i, j in input_dict.items():\n",
    "        reversed_d[j] = i\n",
    "    return reversed_d\n",
    "\n",
    "invert_dict(input_dict)"
   ]
  },
  {
   "cell_type": "code",
   "execution_count": 72,
   "id": "incorporated-representation",
   "metadata": {},
   "outputs": [
    {
     "data": {
      "text/plain": [
       "{1: 1, 2: 4, 3: 9, 4: 16, 5: 25, 6: 36, 7: 49, 8: 64, 9: 81, 10: 100}"
      ]
     },
     "execution_count": 72,
     "metadata": {},
     "output_type": "execute_result"
    }
   ],
   "source": [
    "#72 Generate a dictionary that contains key, value pairs (1 - 10) in the form of (x, x*x)\n",
    "def create_dict():\n",
    "    new_dict = {}\n",
    "    for i in range(1, 11):\n",
    "        new_dict[i] = i * i\n",
    "    return new_dict\n",
    "\n",
    "create_dict()"
   ]
  },
  {
   "cell_type": "code",
   "execution_count": 73,
   "id": "dress-newcastle",
   "metadata": {},
   "outputs": [
    {
     "data": {
      "text/plain": [
       "{'box1': 'Apple', 'box2': 'Mango', 'box5': 'Orange'}"
      ]
     },
     "execution_count": 73,
     "metadata": {},
     "output_type": "execute_result"
    }
   ],
   "source": [
    "#73 Remove empty items from a dictionary\n",
    "input_dict = {'box1':'Apple', 'box2':'Mango', 'box3':' ', 'box4':' ', 'box5':'Orange'}\n",
    "def remove_empty(input_dict):\n",
    "    output_dict = {}\n",
    "    for i, j in input_dict.items():\n",
    "        if len(j) > 2:\n",
    "            output_dict[i] = j\n",
    "    return output_dict\n",
    "\n",
    "remove_empty(input_dict)"
   ]
  },
  {
   "cell_type": "code",
   "execution_count": 74,
   "id": "mechanical-justice",
   "metadata": {},
   "outputs": [
    {
     "data": {
      "text/plain": [
       "{1: 6, 2: 7, 3: 8, 4: 9, 5: 10}"
      ]
     },
     "execution_count": 74,
     "metadata": {},
     "output_type": "execute_result"
    }
   ],
   "source": [
    "#74 Map two lists into a dictionary\n",
    "list1 = [1, 2, 3, 4, 5]\n",
    "list2 = [6, 7, 8, 9, 10]\n",
    "def map_lists(list1,list2):\n",
    "    return (dict(zip(list1,list2)))\n",
    "\n",
    "map_lists(list1,list2)"
   ]
  },
  {
   "cell_type": "code",
   "execution_count": 75,
   "id": "french-dress",
   "metadata": {},
   "outputs": [
    {
     "data": {
      "text/plain": [
       "{'pears': 5, 'oranges': 6, 'apples': 10, 'banana': 12}"
      ]
     },
     "execution_count": 75,
     "metadata": {},
     "output_type": "execute_result"
    }
   ],
   "source": [
    "#75 Sort a dictionary by value\n",
    "input_dict ={'apples':10, 'oranges':6, 'banana':12, 'pears':5}\n",
    "def dict_sort(input_dict):\n",
    "    sorted_vals = sorted(invert_dict(input_dict)) #func from 71\n",
    "    temp = invert_dict(input_dict)\n",
    "    sorted_dict = {}\n",
    "    for i in sorted_vals:\n",
    "        sorted_dict[i] = temp[i]\n",
    "    return invert_dict(sorted_dict)\n",
    "\n",
    "'''\n",
    "        efficient, \"golf\" way:\n",
    "    return dict(sorted(input_dict.items(), key=lambda item: item[1]))\n",
    "'''\n",
    "\n",
    "\n",
    "dict_sort(input_dict)"
   ]
  },
  {
   "cell_type": "code",
   "execution_count": 76,
   "id": "brown-wholesale",
   "metadata": {},
   "outputs": [
    {
     "data": {
      "text/plain": [
       "{'box1': 'Apple', 'box2': 'Mango', 'box3': 'Orange', 'box7': 'Strawberry'}"
      ]
     },
     "execution_count": 76,
     "metadata": {},
     "output_type": "execute_result"
    }
   ],
   "source": [
    "#76 Remove duplicatea fom a dictionary\n",
    "input_dict = {'box1':'Apple', 'box2':'Mango', 'box3':'Orange', 'box4':'Apple', 'box5':'Orange', 'box6':'Orange', 'box7':'Strawberry', 'box8':'Apple'}\n",
    "def remove_duplicates1(input_dict):\n",
    "    output_dict = {}\n",
    "    for i, j in input_dict.items():\n",
    "        if j not in output_dict.values():\n",
    "            output_dict[i] = j\n",
    "    return output_dict\n",
    "    \n",
    "remove_duplicates1(input_dict)     "
   ]
  },
  {
   "cell_type": "markdown",
   "id": "finnish-equipment",
   "metadata": {},
   "source": [
    "### Set"
   ]
  },
  {
   "cell_type": "code",
   "execution_count": 77,
   "id": "aging-drain",
   "metadata": {},
   "outputs": [
    {
     "data": {
      "text/plain": [
       "{2, 4, 6, 8, 10}"
      ]
     },
     "execution_count": 77,
     "metadata": {},
     "output_type": "execute_result"
    }
   ],
   "source": [
    "#77 Compare two sets\n",
    "set1 = set([2,4,6,8,9,10])\n",
    "set2 = set([1,3,5,7,9,11])\n",
    "def compare_sets(set1, set2):\n",
    "    output_set = set()\n",
    "    for i in set1:\n",
    "        if i not in set2:\n",
    "            output_set.add(i)\n",
    "    return output_set\n",
    "\n",
    "compare_sets(set1, set2)"
   ]
  },
  {
   "cell_type": "code",
   "execution_count": 78,
   "id": "chief-vegetable",
   "metadata": {},
   "outputs": [
    {
     "data": {
      "text/plain": [
       "{4, 5}"
      ]
     },
     "execution_count": 78,
     "metadata": {},
     "output_type": "execute_result"
    }
   ],
   "source": [
    "#78 Intersection of set\n",
    "set1 = {1,2,3,4,5}\n",
    "set2 = {4,5,6,7,8} \n",
    "def set_intersection(set1, set2):\n",
    "    return set1 & set2\n",
    "\n",
    "set_intersection(set1, set2)"
   ]
  },
  {
   "cell_type": "code",
   "execution_count": 79,
   "id": "challenging-julian",
   "metadata": {},
   "outputs": [
    {
     "data": {
      "text/plain": [
       "{1, 2, 3}"
      ]
     },
     "execution_count": 79,
     "metadata": {},
     "output_type": "execute_result"
    }
   ],
   "source": [
    "#79 Difference of two sets\n",
    "set1 = {1,2,3,4,5}\n",
    "set2 = {4,5,6,7,8} \n",
    "def set_diff(set1, set2):\n",
    "    return set1 - set2\n",
    "\n",
    "set_diff(set1, set2)"
   ]
  },
  {
   "cell_type": "code",
   "execution_count": 80,
   "id": "broke-essex",
   "metadata": {},
   "outputs": [
    {
     "data": {
      "text/plain": [
       "{1, 2, 3, 4, 5, 6, 7, 8}"
      ]
     },
     "execution_count": 80,
     "metadata": {},
     "output_type": "execute_result"
    }
   ],
   "source": [
    "#80 Union of sets\n",
    "set1 = {1,2,3,4,5}\n",
    "set2 = {4,5,6,7,8}\n",
    "def set_union(set1,set2):\n",
    "    return set1 | set2\n",
    "\n",
    "set_union(set1, set2)"
   ]
  },
  {
   "cell_type": "code",
   "execution_count": 81,
   "id": "advisory-shareware",
   "metadata": {},
   "outputs": [
    {
     "data": {
      "text/plain": [
       "{1, 2, 3, 6, 7, 8}"
      ]
     },
     "execution_count": 81,
     "metadata": {},
     "output_type": "execute_result"
    }
   ],
   "source": [
    "#81 Symmetric difference of two sets\n",
    "set1 = {1,2,3,4,5}\n",
    "set2 = {4,5,6,7,8}\n",
    "def sym_diff(set1, set2):\n",
    "    return set1 ^ set2\n",
    "\n",
    "sym_diff(set1, set2)"
   ]
  },
  {
   "cell_type": "code",
   "execution_count": 82,
   "id": "surgical-ranking",
   "metadata": {},
   "outputs": [
    {
     "data": {
      "text/plain": [
       "{1, 2, 3}"
      ]
     },
     "execution_count": 82,
     "metadata": {},
     "output_type": "execute_result"
    }
   ],
   "source": [
    "#82 Remove elements that exist only in set1 but not in set2\n",
    "set1 = {1,2,3,4,5}\n",
    "set2 = {4,5,6,7,8}\n",
    "def diff_update(set1, set2):\n",
    "    return set1 - set2\n",
    "\n",
    "diff_update(set1, set2)"
   ]
  },
  {
   "cell_type": "markdown",
   "id": "powerful-aluminum",
   "metadata": {},
   "source": [
    "### Functions - variable scope"
   ]
  },
  {
   "cell_type": "code",
   "execution_count": 83,
   "id": "preliminary-selection",
   "metadata": {},
   "outputs": [
    {
     "data": {
      "text/plain": [
       "30"
      ]
     },
     "execution_count": 83,
     "metadata": {},
     "output_type": "execute_result"
    }
   ],
   "source": [
    "#83 Correct the code below and return the sum of a, b, c.\n",
    "def scope():\n",
    "    '''\n",
    "    a = 5\n",
    "    def outer():\n",
    "        b = 10\n",
    "        return (res1 + b)\n",
    "        def inner():\n",
    "            c = 15\n",
    "            return c\n",
    "        res1 = inner()\n",
    "    res2 = outer()\n",
    "    return res2 + a\n",
    "    '''\n",
    "    a = 5\n",
    "    def outer():\n",
    "        b = 10\n",
    "        def inner():\n",
    "            c = 15\n",
    "            return c\n",
    "        res1 = inner()        \n",
    "        return res1 + b\n",
    "    res2 = outer()\n",
    "    return res2 + a\n",
    "\n",
    "scope()"
   ]
  },
  {
   "cell_type": "markdown",
   "id": "inner-reader",
   "metadata": {},
   "source": [
    "### Datetime module"
   ]
  },
  {
   "cell_type": "code",
   "execution_count": 84,
   "id": "proud-rebound",
   "metadata": {},
   "outputs": [
    {
     "data": {
      "text/plain": [
       "'Leap Year'"
      ]
     },
     "execution_count": 84,
     "metadata": {},
     "output_type": "execute_result"
    }
   ],
   "source": [
    "#84 Check whether given year is a leap year or not\n",
    "import datetime\n",
    "input_date = datetime.date(2020,1,1)\n",
    "def leap_year(input_date):\n",
    "    if input_date.year % 4 == 0:\n",
    "        return 'Leap Year'\n",
    "    else:\n",
    "        return 'Non Leap Year'\n",
    "\n",
    "leap_year(input_date)"
   ]
  },
  {
   "cell_type": "code",
   "execution_count": 85,
   "id": "attractive-officer",
   "metadata": {},
   "outputs": [
    {
     "data": {
      "text/plain": [
       "datetime.timedelta(days=3653)"
      ]
     },
     "execution_count": 85,
     "metadata": {},
     "output_type": "execute_result"
    }
   ],
   "source": [
    "#85 Number of days between two given dates\n",
    "date1 = datetime.date(2011,1,1)\n",
    "date2 = datetime.date(2021,1,1)\n",
    "def date_diff(date1, date2):\n",
    "    return date2 - date1\n",
    "\n",
    "date_diff(date1, date2)"
   ]
  },
  {
   "cell_type": "code",
   "execution_count": 86,
   "id": "charitable-mercury",
   "metadata": {},
   "outputs": [
    {
     "data": {
      "text/plain": [
       "(datetime.date(2020, 12, 30),\n",
       " datetime.date(2020, 12, 31),\n",
       " datetime.date(2021, 1, 1))"
      ]
     },
     "execution_count": 86,
     "metadata": {},
     "output_type": "execute_result"
    }
   ],
   "source": [
    "#86 Return the previous and the next day of a given date\n",
    "input_date = datetime.date(2020,12,31)\n",
    "def calculate_dates(input_date):\n",
    "    return input_date - datetime.timedelta(days=1), input_date, \\\n",
    "           input_date + datetime.timedelta(days=1)\n",
    "\n",
    "                                    \n",
    "calculate_dates(input_date)"
   ]
  },
  {
   "cell_type": "code",
   "execution_count": 87,
   "id": "unlimited-bunny",
   "metadata": {
    "scrolled": true
   },
   "outputs": [
    {
     "data": {
      "text/plain": [
       "(datetime.date(8456, 9, 5), '249')"
      ]
     },
     "execution_count": 87,
     "metadata": {},
     "output_type": "execute_result"
    }
   ],
   "source": [
    "#87 Convert Year/Month/Day to Day of Year\n",
    "import random\n",
    "import datetime\n",
    "def day_of_year():\n",
    "    year = random.randrange(1, 9999)\n",
    "    month = random.randrange(1, 13)\n",
    "    day = random.randrange(1, 29)\n",
    "    chosen_date = datetime.date(year, month, day)\n",
    "    day_of_the_year = chosen_date.strftime('%j')\n",
    "    return chosen_date, day_of_the_year\n",
    "    \n",
    "day_of_year()"
   ]
  },
  {
   "cell_type": "code",
   "execution_count": 88,
   "id": "lined-viewer",
   "metadata": {},
   "outputs": [
    {
     "data": {
      "text/plain": [
       "datetime.date(2021, 7, 8)"
      ]
     },
     "execution_count": 88,
     "metadata": {},
     "output_type": "execute_result"
    }
   ],
   "source": [
    "#88 Calculatebthe date six months from a given date\n",
    "input_date = datetime.date(2021,1,7)\n",
    "def add_to_date(input_date):\n",
    "    return input_date + datetime.timedelta(days=182)\n",
    "\n",
    "add_to_date(input_date)"
   ]
  },
  {
   "cell_type": "code",
   "execution_count": 89,
   "id": "promotional-alert",
   "metadata": {},
   "outputs": [
    {
     "data": {
      "text/plain": [
       "(datetime.date(860, 7, 25), datetime.date(860, 7, 20))"
      ]
     },
     "execution_count": 89,
     "metadata": {},
     "output_type": "execute_result"
    }
   ],
   "source": [
    "#89 Substract five days from random date\n",
    "def subtract_days():\n",
    "    chosen_date, x = day_of_year() #from 87\n",
    "    return chosen_date, chosen_date - datetime.timedelta(days=5)\n",
    "    \n",
    "subtract_days()"
   ]
  },
  {
   "cell_type": "code",
   "execution_count": 90,
   "id": "gorgeous-amazon",
   "metadata": {},
   "outputs": [
    {
     "data": {
      "text/plain": [
       "False"
      ]
     },
     "execution_count": 90,
     "metadata": {},
     "output_type": "execute_result"
    }
   ],
   "source": [
    "#90 Return whether a date is a valid date\n",
    "def check_date(year, month, day):\n",
    "    try:\n",
    "        datetime.date(year, month, day)\n",
    "    except:\n",
    "        return False\n",
    "    return True\n",
    "\n",
    "check_date(23021,12,3)"
   ]
  },
  {
   "cell_type": "code",
   "execution_count": 91,
   "id": "unique-concert",
   "metadata": {},
   "outputs": [
    {
     "data": {
      "text/plain": [
       "1293910600.0"
      ]
     },
     "execution_count": 91,
     "metadata": {},
     "output_type": "execute_result"
    }
   ],
   "source": [
    "#91 Convert a string date to timestamp\n",
    "input_string = 'Jan 01 2011 08:36:40 PM'\n",
    "def convert_to_ts(input_string):\n",
    "    conv_str = datetime.datetime.strptime(input_string, '%b %d %Y %I:%M:%S %p')\n",
    "    return datetime.datetime.timestamp(conv_str)\n",
    "\n",
    "convert_to_ts(input_string)"
   ]
  },
  {
   "cell_type": "code",
   "execution_count": 92,
   "id": "social-surgery",
   "metadata": {},
   "outputs": [
    {
     "data": {
      "text/plain": [
       "datetime.datetime(2021, 1, 6, 12, 10, 1)"
      ]
     },
     "execution_count": 92,
     "metadata": {},
     "output_type": "execute_result"
    }
   ],
   "source": [
    "#92 Convert unix timestampnto readable format\n",
    "unix_timestamp = 1609931401\n",
    "def convert_timestamp(unix_timestamp):\n",
    "    return datetime.datetime.fromtimestamp(unix_timestamp)\n",
    "\n",
    "convert_timestamp(unix_timestamp)"
   ]
  },
  {
   "cell_type": "markdown",
   "id": "front-terminology",
   "metadata": {},
   "source": [
    "### Classes"
   ]
  },
  {
   "cell_type": "code",
   "execution_count": 93,
   "id": "third-riding",
   "metadata": {},
   "outputs": [],
   "source": [
    "#93 Calculator class\n",
    "class Calculator:\n",
    "    def __init__(self, x, y):\n",
    "        self.x = x\n",
    "        self.y = y\n",
    "        \n",
    "    def add(self):\n",
    "        return self.x, self.y, self.x + self.y\n",
    "    \n",
    "    def sub(self):\n",
    "        return self.x, self.y, self.x - self.y\n",
    "    \n",
    "    def mul(self):\n",
    "        return self.x, self.y, self.x * self.y\n",
    "    \n",
    "    def div(self):\n",
    "        return self.x, self.y, round(self.x / self.y, 2)"
   ]
  },
  {
   "cell_type": "code",
   "execution_count": 94,
   "id": "verbal-convention",
   "metadata": {},
   "outputs": [],
   "source": [
    "#94 Vehicle class\n",
    "class Car:\n",
    "    cars = 0\n",
    "    def __init__(self, model, year, type_of_car, unique_id):\n",
    "        self.model = model, \n",
    "        self.year = year, \n",
    "        self.type_of_car = type_of_car, \n",
    "        self.unique_id = unique_id\n",
    "        \n",
    "    def no_of_vehicles(self):\n",
    "        Car.cars += 1\n",
    "        return Car.cars"
   ]
  },
  {
   "cell_type": "code",
   "execution_count": 95,
   "id": "hindu-cathedral",
   "metadata": {},
   "outputs": [],
   "source": [
    "#95 Return the number 1's, 3's and 9's in an int\n",
    "class Ones_threes_nines:\n",
    "    def __init__(self, num):\n",
    "        self.num = num\n",
    "        self.ones = self.num // 1\n",
    "        self.threes = self.num // 3\n",
    "        self.nines=self.num // 9"
   ]
  },
  {
   "cell_type": "code",
   "execution_count": 96,
   "id": "cosmetic-salmon",
   "metadata": {},
   "outputs": [],
   "source": [
    "#96 Employee class\n",
    "class Employee:\n",
    "    def __init__(self, full_name, **a):\n",
    "        self.first_name, self.last_name = full_name.split(' ')\n",
    "        for k in a.keys():\n",
    "            self.__setattr__(k, a[k])"
   ]
  },
  {
   "cell_type": "code",
   "execution_count": 97,
   "id": "satisfied-beads",
   "metadata": {},
   "outputs": [],
   "source": [
    "#97 Person class\n",
    "class Person:\n",
    "    def __init__(self, name, age):\n",
    "        self.name = name\n",
    "        self.age = age\n",
    "    \n",
    "    def compare(self, other):\n",
    "        if self.age > other.age:\n",
    "            return f'{other.name} is younger than me.'\n",
    "        elif self.age == other.age:\n",
    "            return f'{other.name} is the same age as me.'\n",
    "        else:\n",
    "            return f'{other.name} is older than me.'"
   ]
  },
  {
   "cell_type": "markdown",
   "id": "aerial-execution",
   "metadata": {},
   "source": [
    "### Exceptions"
   ]
  },
  {
   "cell_type": "code",
   "execution_count": 98,
   "id": "fitted-bride",
   "metadata": {},
   "outputs": [
    {
     "data": {
      "text/plain": [
       "TypeError(\"unsupported operand type(s) for /: 'int' and 'str'\")"
      ]
     },
     "execution_count": 98,
     "metadata": {},
     "output_type": "execute_result"
    }
   ],
   "source": [
    "#98 Try-except clause\n",
    "def validate(a, b):\n",
    "    try:\n",
    "        a / b\n",
    "    except Exception as err:\n",
    "        return err\n",
    "    return a / b\n",
    "\n",
    "validate(1,'s')"
   ]
  },
  {
   "cell_type": "markdown",
   "id": "preliminary-sally",
   "metadata": {},
   "source": [
    "### File handling"
   ]
  },
  {
   "cell_type": "code",
   "execution_count": 99,
   "id": "personal-whale",
   "metadata": {},
   "outputs": [],
   "source": [
    "#99 Return the number of times a given string occurs in a text file\n",
    "def read_text_file(word):\n",
    "    count = 0\n",
    "    with open('C:\\\\Users\\\\KDmytro\\\\input.txt') as tfile:\n",
    "        for row in tfile:\n",
    "            if word in row:\n",
    "                count += 1\n",
    "    return count"
   ]
  },
  {
   "cell_type": "code",
   "execution_count": 100,
   "id": "directed-serve",
   "metadata": {},
   "outputs": [],
   "source": [
    "#100 Read a csv file as a dictionary and return the dict keys\n",
    "from csv import DictReader\n",
    "\n",
    "def read_csv():\n",
    "    with open('C:\\\\Users\\\\KDmytro\\\\input.csv') as csvfile:\n",
    "        csvreader = DictReader(csvfile)\n",
    "        for row in csvreader:\n",
    "            print(row.keys())"
   ]
  },
  {
   "cell_type": "markdown",
   "metadata": {},
   "source": [
    "## Codewars katas and more"
   ]
  },
  {
   "cell_type": "code",
   "execution_count": 101,
   "id": "balanced-rating",
   "metadata": {},
   "outputs": [
    {
     "data": {
      "text/plain": [
       "'Hey wollef sroirraw'"
      ]
     },
     "execution_count": 101,
     "metadata": {},
     "output_type": "execute_result"
    }
   ],
   "source": [
    "#101 \n",
    "'''\n",
    "https://www.codewars.com/kata/5264d2b162488dc400000001\n",
    "'''\n",
    "def spin_words(string):\n",
    "    for word in string.split():\n",
    "        if len(word) > 4:\n",
    "            string = string.replace(word, word[::-1])\n",
    "    return string\n",
    "\n",
    "spin_words('Hey fellow warriors')"
   ]
  },
  {
   "cell_type": "code",
   "execution_count": 102,
   "id": "yellow-munich",
   "metadata": {},
   "outputs": [
    {
     "data": {
      "text/plain": [
       "51"
      ]
     },
     "execution_count": 102,
     "metadata": {},
     "output_type": "execute_result"
    }
   ],
   "source": [
    "#102\n",
    "'''\n",
    "https://www.codewars.com/kata/5552101f47fc5178b1000050\n",
    "'''\n",
    "def dig_pow(numb, p):\n",
    "    res = sum([int(n) ** (p + count) for count, n in enumerate(str(numb))])\n",
    "    if res % numb == 0:\n",
    "        return res // numb\n",
    "    else:    all_nums = []\n",
    "    if a == b:\n",
    "        return a\n",
    "    else:\n",
    "        if a > b:\n",
    "            a, b = b, a \n",
    "        for i in range(a, b + 1):\n",
    "            all_nums.append(i)\n",
    "        return sum(all_nums)\n",
    "        return -1\n",
    "    \n",
    "dig_pow(46288, 3)"
   ]
  },
  {
   "cell_type": "code",
   "execution_count": 103,
   "id": "accessory-invitation",
   "metadata": {},
   "outputs": [
    {
     "data": {
      "text/plain": [
       "2"
      ]
     },
     "execution_count": 103,
     "metadata": {},
     "output_type": "execute_result"
    }
   ],
   "source": [
    "#103\n",
    "'''\n",
    "https://www.codewars.com/kata/55f2b110f61eb01779000053\n",
    "'''\n",
    "def sum_of_nums(a, b):\n",
    "    all_nums = []\n",
    "    if a == b:\n",
    "        return a\n",
    "    else:\n",
    "        if a > b:\n",
    "            a, b = b, a \n",
    "        for i in range(a, b + 1):\n",
    "            all_nums.append(i)\n",
    "        return sum(all_nums)\n",
    "    \n",
    "sum_of_nums(-1, 2)"
   ]
  },
  {
   "cell_type": "code",
   "execution_count": 104,
   "id": "velvet-arctic",
   "metadata": {},
   "outputs": [
    {
     "data": {
      "text/plain": [
       "'abcdefklmopqwxy'"
      ]
     },
     "execution_count": 104,
     "metadata": {},
     "output_type": "execute_result"
    }
   ],
   "source": [
    "#104\n",
    "'''\n",
    "https://www.codewars.com/kata/5656b6906de340bd1b0000ac\n",
    "'''\n",
    "def longest(a, b):\n",
    "    return ''.join(list(sorted(set(a + b))))\n",
    "\n",
    "longest(\"xyaabbbccccdefww\", \"xxxxyyyyabklmopq\")"
   ]
  },
  {
   "cell_type": "code",
   "execution_count": 105,
   "id": "christian-introduction",
   "metadata": {},
   "outputs": [
    {
     "data": {
      "text/plain": [
       "2"
      ]
     },
     "execution_count": 105,
     "metadata": {},
     "output_type": "execute_result"
    }
   ],
   "source": [
    "#105\n",
    "'''\n",
    "https://www.codewars.com/kata/57cebe1dc6fdc20c57000ac9\n",
    "'''\n",
    "def find_short(string):\n",
    "    listed_str = string.split()\n",
    "    for inx, word in enumerate(listed_str):\n",
    "        listed_str[inx] = len(word)\n",
    "    return min(listed_str)\n",
    "\n",
    "find_short('bunch of nice words')"
   ]
  },
  {
   "cell_type": "code",
   "execution_count": 106,
   "id": "lesbian-defeat",
   "metadata": {},
   "outputs": [
    {
     "data": {
      "text/plain": [
       "3"
      ]
     },
     "execution_count": 106,
     "metadata": {},
     "output_type": "execute_result"
    }
   ],
   "source": [
    "#106\n",
    "'''\n",
    "https://www.codewars.com/kata/5526fc09a1bbd946250002dc\n",
    "'''\n",
    "def find_outlier(arr):\n",
    "    odd, even = [], []\n",
    "    for el in arr:\n",
    "        if len(even) + len(odd) < 4:\n",
    "            if el % 2 == 0 and len(even) < 3:\n",
    "                even.append(el)\n",
    "            elif el % 2 != 0 and len(odd) < 3:\n",
    "                odd.append(el)\n",
    "        else:\n",
    "            break\n",
    "    if len(even) == 1:\n",
    "        return int(even[0])\n",
    "    else:\n",
    "        return int(odd[0])\n",
    "                \n",
    "find_outlier([2, 4, 6, 8, 10, 3])"
   ]
  },
  {
   "cell_type": "code",
   "execution_count": 107,
   "id": "communist-publication",
   "metadata": {},
   "outputs": [
    {
     "data": {
      "text/plain": [
       "21"
      ]
     },
     "execution_count": 107,
     "metadata": {},
     "output_type": "execute_result"
    }
   ],
   "source": [
    "#107\n",
    "'''\n",
    "https://www.codewars.com/kata/5544c7a5cb454edb3c000047\n",
    "'''\n",
    "def ball_game(h, bounce, window):\n",
    "    if h <= 0 or bounce >= 1 or bounce <= 0 or window >= h:\n",
    "        return -1\n",
    "    else:\n",
    "        count = 0\n",
    "        if h * bounce <= window:\n",
    "            return count + 1\n",
    "        if h * bounce > window:\n",
    "            while h > window:\n",
    "                count += 1\n",
    "                h *= bounce\n",
    "                if h > window:\n",
    "                    count += 1\n",
    "        return count\n",
    "    \n",
    "    \n",
    "h = 30\n",
    "bounce = 0.75\n",
    "window = 1.5\n",
    "\n",
    "ball_game(h, bounce, window)"
   ]
  },
  {
   "cell_type": "code",
   "execution_count": 108,
   "id": "changed-springer",
   "metadata": {},
   "outputs": [
    {
     "data": {
      "text/plain": [
       "['    *    ', '   ***   ', '  *****  ', ' ******* ', '*********']"
      ]
     },
     "execution_count": 108,
     "metadata": {},
     "output_type": "execute_result"
    }
   ],
   "source": [
    "#108\n",
    "'''\n",
    "https://www.codewars.com/kata/576757b1df89ecf5bd00073b\n",
    "'''\n",
    "def tower(floor):\n",
    "    pyr, star = [], 1\n",
    "    lenth = floor * 2 - 1\n",
    "    for i in range(floor):\n",
    "        pyr.append(' ' * lenth)\n",
    "    for inx, i in enumerate(range(floor)):\n",
    "        pyr[i] = [(' ' * (lenth // 2 - inx)), ('*' * star), (' ' * (lenth // 2 - inx))]\n",
    "        star += 2\n",
    "    for inx, i in enumerate(pyr):\n",
    "        pyr[inx]= i[0]+i[1]+i[2]\n",
    "    return pyr\n",
    "\n",
    "tower(5)"
   ]
  },
  {
   "cell_type": "code",
   "execution_count": 109,
   "id": "virtual-express",
   "metadata": {},
   "outputs": [
    {
     "data": {
      "text/plain": [
       "[1, 1, 2, 1, 3, 0, 0]"
      ]
     },
     "execution_count": 109,
     "metadata": {},
     "output_type": "execute_result"
    }
   ],
   "source": [
    "#109\n",
    "'''\n",
    "https://www.codewars.com/kata/52597aa56021e91c93000cb0\n",
    "'''\n",
    "def move_zeros(array):\n",
    "    new, zeros = [], 0\n",
    "    for i in array:\n",
    "        if i == 0:\n",
    "            zeros += 1\n",
    "        else:\n",
    "            new.append(i)\n",
    "    for i in range(zeros):\n",
    "        new.append(0)\n",
    "    return new\n",
    "\n",
    "move_zeros([1, 0,1,2,0,1,3])"
   ]
  },
  {
   "cell_type": "code",
   "execution_count": 110,
   "id": "living-statement",
   "metadata": {},
   "outputs": [
    {
     "data": {
      "text/plain": [
       "'26:23:20'"
      ]
     },
     "execution_count": 110,
     "metadata": {},
     "output_type": "execute_result"
    }
   ],
   "source": [
    "#110\n",
    "'''\n",
    "https://www.codewars.com/kata/52685f7382004e774f0001f7\n",
    "'''\n",
    "def make_readable(secs):\n",
    "    h = secs // 3600\n",
    "    m = (secs - h * 3600) // 60\n",
    "    secs -= h * 3600 + m * 60\n",
    "    if h < 10:\n",
    "        h = '0' + str(h)\n",
    "    if m < 10:\n",
    "        m = '0' + str(m)\n",
    "    if secs < 10:\n",
    "        secs = '0' + str(secs)\n",
    "    return f'{h}:{m}:{secs}'\n",
    "        \n",
    "make_readable(95000)"
   ]
  },
  {
   "cell_type": "code",
   "execution_count": 111,
   "id": "bacterial-czech",
   "metadata": {},
   "outputs": [
    {
     "data": {
      "text/plain": [
       "'20 8 5 19 21 14 19 5 20 19 5 20 19 1 20 20 23 5 12 22 5 15 3 12 15 3 11'"
      ]
     },
     "execution_count": 111,
     "metadata": {},
     "output_type": "execute_result"
    }
   ],
   "source": [
    "#111\n",
    "'''\n",
    "https://www.codewars.com/kata/546f922b54af40e1e90001da\n",
    "'''\n",
    "import string\n",
    "def alphabet_position(sent):\n",
    "    alp, numbers = {}, ''\n",
    "    for inx, letter in enumerate(string.ascii_lowercase, start=1):\n",
    "        alp[letter] = inx\n",
    "    sent = [letter.lower() for letter in sent if letter in string.ascii_letters]\n",
    "    for i in sent:\n",
    "        numbers += str(alp[i]) + ' '\n",
    "    return numbers[:-1]\n",
    "\n",
    "alphabet_position(\"The sunset sets at twelve o' clock.\")"
   ]
  },
  {
   "cell_type": "code",
   "execution_count": 112,
   "id": "british-count",
   "metadata": {},
   "outputs": [
    {
     "data": {
      "text/plain": [
       "[1, 2, 3, 4, 4, 5, 6, 7, 8, 9]"
      ]
     },
     "execution_count": 112,
     "metadata": {},
     "output_type": "execute_result"
    }
   ],
   "source": [
    "#112\n",
    "'''\n",
    "Comb sort algorithm\n",
    "'''\n",
    "def sorter(x):\n",
    "    k = len(x)\n",
    "    swap = True\n",
    "    while k > 1 or swap:\n",
    "        k = max(1, int(k / 1.25))\n",
    "        swap = False\n",
    "        for i in range(len(x) - k):\n",
    "            if x[i] > x[i + k]:\n",
    "                x[i], x[i + k] = x[i + k], x[i]\n",
    "                swap = True\n",
    "    return x\n",
    "    \n",
    "sorter([6,5,3,7,4,9,1,4,8,2])"
   ]
  },
  {
   "cell_type": "code",
   "execution_count": 113,
   "id": "imposed-malpractice",
   "metadata": {},
   "outputs": [
    {
     "data": {
      "text/plain": [
       "'cherries pears\\npears\\n\\napples lemons avocados\\navocados apples bananas bananas'"
      ]
     },
     "execution_count": 113,
     "metadata": {},
     "output_type": "execute_result"
    }
   ],
   "source": [
    "#113\n",
    "'''\n",
    "https://www.codewars.com/kata/51c8e37cee245da6b40000bd\n",
    "'''\n",
    "def solution(sent, ws):\n",
    "    sent = sent.split('\\n')\n",
    "    for inx, i in enumerate(sent):\n",
    "        for j in ws:\n",
    "            if j in i:\n",
    "                i = i.split(j)\n",
    "                sent[inx] = i[0][:-1]\n",
    "    sent = '\\n'.join(sent)\n",
    "    for i in ws:\n",
    "        if i in sent:\n",
    "            sent = solution(sent, ws)\n",
    "    if len(sent) < 1:\n",
    "        return sent\n",
    "    if sent[-1] == ' ':\n",
    "        sent = sent[:-1]\n",
    "    return sent\n",
    "\n",
    "#Code here is bad and messy, but it works\n",
    "solution('cherries pears\\npears . - lemons cherries\\n! oranges bananas #\\napples lemons avocados #\\navocados apples bananas bananas', ['?', '!', '-', '#', '=', ',', \"'\", '.', '@'])"
   ]
  },
  {
   "cell_type": "code",
   "execution_count": 114,
   "id": "decent-orientation",
   "metadata": {},
   "outputs": [
    {
     "data": {
      "text/plain": [
       "['cdab',\n",
       " 'acdb',\n",
       " 'abcd',\n",
       " 'cdba',\n",
       " 'dcab',\n",
       " 'badc',\n",
       " 'abdc',\n",
       " 'adbc',\n",
       " 'acbd',\n",
       " 'bdac',\n",
       " 'dabc',\n",
       " 'bacd',\n",
       " 'cbad',\n",
       " 'cbda',\n",
       " 'dbac',\n",
       " 'cadb',\n",
       " 'dcba',\n",
       " 'cabd',\n",
       " 'bcad',\n",
       " 'bcda',\n",
       " 'bdca',\n",
       " 'dbca',\n",
       " 'adcb',\n",
       " 'dacb']"
      ]
     },
     "execution_count": 114,
     "metadata": {},
     "output_type": "execute_result"
    }
   ],
   "source": [
    "#114\n",
    "'''\n",
    "https://www.codewars.com/kata/5254ca2719453dcc0b00027d\n",
    "'''\n",
    "from itertools import permutations as ps\n",
    "def permutation(strin):\n",
    "    to_set = set(ps(strin, len(strin)))\n",
    "    outlist = [] \n",
    "    for i in to_set:\n",
    "        outlist.append(''.join(i))\n",
    "    return outlist\n",
    "\n",
    "permutation('abcd')"
   ]
  },
  {
   "cell_type": "code",
   "execution_count": 115,
   "id": "colored-converter",
   "metadata": {},
   "outputs": [
    {
     "data": {
      "text/plain": [
       "'igPay atinlay siay oolcay 1'"
      ]
     },
     "execution_count": 115,
     "metadata": {},
     "output_type": "execute_result"
    }
   ],
   "source": [
    "#115\n",
    "'''\n",
    "https://www.codewars.com/kata/520b9d2ad5c005041100000f\n",
    "'''\n",
    "def pig_latin(strin):\n",
    "    pg_list = strin.split()\n",
    "    for inx, i in enumerate(pg_list):\n",
    "        if i.isalpha():\n",
    "            temp = i[0]\n",
    "            pg_list[inx] = i[1:] + temp + 'ay '\n",
    "    if pg_list[-1][-1] == ' ':\n",
    "        pg_list[-1] = pg_list[-1][:-1]\n",
    "    return ''.join(pg_list)\n",
    "\n",
    "pig_latin('Pig latin is cool 1')"
   ]
  },
  {
   "cell_type": "code",
   "execution_count": 116,
   "id": "guilty-festival",
   "metadata": {},
   "outputs": [
    {
     "data": {
      "text/plain": [
       "11"
      ]
     },
     "execution_count": 116,
     "metadata": {},
     "output_type": "execute_result"
    }
   ],
   "source": [
    "#116\n",
    "'''\n",
    "https://www.codewars.com/kata/525c65e51bf619685c000059\n",
    "'''\n",
    "def cakes(recipe, store):\n",
    "    count = 0\n",
    "    check = True\n",
    "    for i in recipe.keys():\n",
    "        if i not in store or recipe[i] > store[i]:\n",
    "            return 0\n",
    "    while check:\n",
    "        for j in recipe.keys():\n",
    "            check = False\n",
    "            store[j] -= recipe[j]\n",
    "            if store[j] > 0:\n",
    "                count += 1\n",
    "                check = True\n",
    "            else:\n",
    "                break\n",
    "    return count // len(recipe)\n",
    "\n",
    "cakes({'cream': 200, 'flour': 300, 'sugar': 150, 'milk': 100, 'oil': 100}, {'sugar': 1700, 'flour': 20000, 'milk': 20000, 'oil': 30000, 'cream': 5000})"
   ]
  },
  {
   "cell_type": "code",
   "execution_count": 117,
   "id": "approximate-cooking",
   "metadata": {},
   "outputs": [
    {
     "data": {
      "text/plain": [
       "False"
      ]
     },
     "execution_count": 117,
     "metadata": {},
     "output_type": "execute_result"
    }
   ],
   "source": [
    "#117\n",
    "'''\n",
    "https://www.codewars.com/kata/55c04b4cc56a697bb0000048\n",
    "'''\n",
    "def scramble(symbols, word):\n",
    "    symbols = list(symbols)\n",
    "    for i in word:\n",
    "        if i not in symbols:\n",
    "            return False\n",
    "        symbols.remove(i)\n",
    "    return True\n",
    "\n",
    "scramble('kates', 'steakk')"
   ]
  },
  {
   "cell_type": "code",
   "execution_count": 118,
   "id": "silent-hanging",
   "metadata": {},
   "outputs": [
    {
     "data": {
      "text/plain": [
       "True"
      ]
     },
     "execution_count": 118,
     "metadata": {},
     "output_type": "execute_result"
    }
   ],
   "source": [
    "# Another, the most efficient way, I've figured out.\n",
    "def scramble(symbols, word):\n",
    "    for c in set(word):\n",
    "        if symbols.count(c) < word.count(c):\n",
    "            return False\n",
    "    return True\n",
    "    \n",
    "scramble('rkqodlw', 'world')"
   ]
  },
  {
   "cell_type": "code",
   "execution_count": 119,
   "id": "broad-simpson",
   "metadata": {},
   "outputs": [
    {
     "data": {
      "text/plain": [
       "'))(('"
      ]
     },
     "execution_count": 119,
     "metadata": {},
     "output_type": "execute_result"
    }
   ],
   "source": [
    "#118\n",
    "'''\n",
    "https://www.codewars.com/kata/54b42f9314d9229fd6000d9c\n",
    "'''\n",
    "def duplicate_encode(strin):\n",
    "    strin = list(strin.lower())\n",
    "    code = ''\n",
    "    for inx, symbol in enumerate(strin):\n",
    "        strin.remove(symbol)\n",
    "        if symbol in strin:\n",
    "            code += ')'\n",
    "        else:\n",
    "            code += '('\n",
    "        strin.insert(inx, symbol)\n",
    "    return code\n",
    "\n",
    "duplicate_encode(\"(( @\")"
   ]
  },
  {
   "cell_type": "code",
   "execution_count": 120,
   "id": "shared-whale",
   "metadata": {},
   "outputs": [
    {
     "data": {
      "text/plain": [
       "'Fo1r the2 g3ood 4of th5e pe6ople'"
      ]
     },
     "execution_count": 120,
     "metadata": {},
     "output_type": "execute_result"
    }
   ],
   "source": [
    "#119\n",
    "'''\n",
    "https://www.codewars.com/kata/55c45be3b2079eccff00010f\n",
    "'''\n",
    "def order(strin):\n",
    "    ordered_dict = {}\n",
    "    res = []\n",
    "    for i in strin.split():\n",
    "        for j in range(1, 10):\n",
    "            if str(j) in i:\n",
    "                ordered_dict[j] = i\n",
    "                break\n",
    "    l_order = sorted(ordered_dict)\n",
    "    for word in l_order:\n",
    "        res.append(ordered_dict[word])\n",
    "    return ' '.join(res)\n",
    "        \n",
    "order(\"4of Fo1r pe6ople g3ood th5e the2\")"
   ]
  },
  {
   "cell_type": "code",
   "execution_count": 121,
   "id": "attached-tamil",
   "metadata": {},
   "outputs": [
    {
     "data": {
      "text/plain": [
       "False"
      ]
     },
     "execution_count": 121,
     "metadata": {},
     "output_type": "execute_result"
    }
   ],
   "source": [
    "#120\n",
    "'''\n",
    "https://www.codewars.com/kata/52774a314c2333f0a7000688\n",
    "'''\n",
    "def valid_parentheses(strin):\n",
    "    clean = []\n",
    "    if strin == '':\n",
    "        return True\n",
    "    for i in strin:\n",
    "        if i == '(' or i == ')':\n",
    "            clean.append(i)\n",
    "    if not len(list(clean)) % 2 == 0:\n",
    "        return False\n",
    "    switch = True\n",
    "    while switch:\n",
    "        switch = False\n",
    "        for i in range(len(clean) - 1):\n",
    "            if clean[0] == ')' or clean[-1] == '(':\n",
    "                return False\n",
    "            if clean[i] + clean[i + 1] == '()':\n",
    "                clean.remove(clean[i])\n",
    "                clean.remove(clean[i])\n",
    "                switch = True\n",
    "                break\n",
    "    return len(clean) == 0\n",
    "\n",
    "valid_parentheses('(ifrcgvhwpj(khjxzck)rwa))ndwagjq)libeyh')"
   ]
  },
  {
   "cell_type": "code",
   "execution_count": 122,
   "id": "pending-peripheral",
   "metadata": {},
   "outputs": [
    {
     "data": {
      "text/plain": [
       "False"
      ]
     },
     "execution_count": 122,
     "metadata": {},
     "output_type": "execute_result"
    }
   ],
   "source": [
    "#121\n",
    "'''\n",
    "https://www.codewars.com/kata/5287e858c6b5a9678200083c\n",
    "'''\n",
    "def narcissistic(value):\n",
    "    listed = [int(i) for i in str(value)]\n",
    "    res = 0\n",
    "    for n in listed:\n",
    "        res += n ** len(listed)\n",
    "    return value == res\n",
    "\n",
    "narcissistic(1652)"
   ]
  },
  {
   "cell_type": "code",
   "execution_count": 123,
   "id": "interracial-lighting",
   "metadata": {
    "scrolled": true
   },
   "outputs": [
    {
     "data": {
      "text/plain": [
       "True"
      ]
     },
     "execution_count": 123,
     "metadata": {},
     "output_type": "execute_result"
    }
   ],
   "source": [
    "#122\n",
    "'''\n",
    "https://www.codewars.com/kata/545cedaa9943f7fe7b000048\n",
    "'''\n",
    "import string\n",
    "def is_pangram(value):\n",
    "    abc = list(string.ascii_lowercase)\n",
    "    listed = list(value.lower())\n",
    "    if len(listed) < len(abc):\n",
    "        return False\n",
    "    for letter in abc:\n",
    "        if letter not in listed:\n",
    "            return False\n",
    "    return True\n",
    "    \n",
    "is_pangram('Cwm fjord bank glyphs vext quiz')"
   ]
  },
  {
   "cell_type": "code",
   "execution_count": 124,
   "id": "scientific-stock",
   "metadata": {},
   "outputs": [
    {
     "data": {
      "text/plain": [
       "1"
      ]
     },
     "execution_count": 124,
     "metadata": {},
     "output_type": "execute_result"
    }
   ],
   "source": [
    "#123\n",
    "'''\n",
    "https://www.codewars.com/kata/541c8630095125aba6000c00\n",
    "'''\n",
    "def digital_root(value):\n",
    "    while value > 9:\n",
    "        listed = [int(i) for i in str(value)]\n",
    "        value = sum(listed)\n",
    "    return value\n",
    "    \n",
    "digital_root(1234)"
   ]
  },
  {
   "cell_type": "code",
   "execution_count": 125,
   "id": "geographic-thompson",
   "metadata": {},
   "outputs": [
    {
     "data": {
      "text/plain": [
       "'SOS! THE QUICK BROWN FOX JUMPS OVER THE LAZY DOG.'"
      ]
     },
     "execution_count": 125,
     "metadata": {},
     "output_type": "execute_result"
    }
   ],
   "source": [
    "#124\n",
    "'''\n",
    "https://www.codewars.com/kata/54b724efac3d5402db00065e\n",
    "'''\n",
    "import string\n",
    "def decode_morse(value):\n",
    "    MORSE_CODE = { 'A':'.-', 'B':'-...',\n",
    "                   'C':'-.-.', 'D':'-..', 'E':'.',\n",
    "                   'F':'..-.', 'G':'--.', 'H':'....',\n",
    "                   'I':'..', 'J':'.---', 'K':'-.-',\n",
    "                   'L':'.-..', 'M':'--', 'N':'-.',\n",
    "                   'O':'---', 'P':'.--.', 'Q':'--.-',\n",
    "                   'R':'.-.', 'S':'...', 'T':'-',\n",
    "                   'U':'..-', 'V':'...-', 'W':'.--',\n",
    "                   'X':'-..-', 'Y':'-.--', 'Z':'--..',\n",
    "                   '1':'.----', '2':'..---', '3':'...--',\n",
    "                   '4':'....-', '5':'.....', '6':'-....',\n",
    "                   '7':'--...', '8':'---..', '9':'----.',\n",
    "                   '0':'-----', ', ':'--..--', '.':'.-.-.-',\n",
    "                   '?':'..--..', '!':'-.-.--', '/':'-..-.', '-':'-....-',\n",
    "                   '(':'-.--.', ')':'-.--.-', 'SOS':'...---...'}\n",
    "    rev_morse = {value: key for (key, value) in MORSE_CODE.items()}\n",
    "    text = ''  \n",
    "        \n",
    "    listed = value.split('  ')\n",
    "    while \"\" in listed :\n",
    "        listed.remove(\"\")\n",
    "    for inx, i in enumerate(listed):\n",
    "        if isinstance(i, list):\n",
    "            for j in i:\n",
    "                if len(j) == 0:\n",
    "                    listed[inx].remove(j)\n",
    "        else:\n",
    "            if len(i) == 0:\n",
    "                listed.remove(i)\n",
    "        if ' ' in i:\n",
    "            listed[inx] = listed[inx].split()\n",
    "    for word in listed:\n",
    "        if isinstance(word, list):\n",
    "            for let in word:\n",
    "                if ' ' in let:\n",
    "                    let = let.strip(string.whitespace)\n",
    "                text += rev_morse[let]\n",
    "        else:\n",
    "            word = word.strip(string.whitespace)\n",
    "            text += rev_morse[word]\n",
    "        text += ' '          \n",
    "    return text[:-1]\n",
    "    \n",
    "decode_morse('      ...---... -.-.--   - .... .   --.- ..- .. -.-. -.-   -... .-. --- .-- -.   ..-. --- -..-   .--- ..- -- .--. ...   --- ...- . .-.   - .... .   .-.. .- --.. -.--   -.. --- --. .-.-.-  ')"
   ]
  },
  {
   "cell_type": "code",
   "execution_count": null,
   "id": "instrumental-training",
   "metadata": {},
   "outputs": [],
   "source": []
  }
 ],
 "metadata": {
  "kernelspec": {
   "display_name": "Python 3",
   "language": "python",
   "name": "python3"
  },
  "language_info": {
   "codemirror_mode": {
    "name": "ipython",
    "version": 3
   },
   "file_extension": ".py",
   "mimetype": "text/x-python",
   "name": "python",
   "nbconvert_exporter": "python",
   "pygments_lexer": "ipython3",
   "version": "3.8.5"
  }
 },
 "nbformat": 4,
 "nbformat_minor": 4
}
